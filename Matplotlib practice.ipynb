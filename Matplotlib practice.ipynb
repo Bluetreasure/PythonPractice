{
 "cells": [
  {
   "cell_type": "raw",
   "metadata": {},
   "source": [
    "6.1 matplotlib 的子函式庫"
   ]
  },
  {
   "cell_type": "code",
   "execution_count": 21,
   "metadata": {
    "collapsed": true
   },
   "outputs": [],
   "source": [
    "import matplotlib as mpl\n",
    "import pkgutil as pu\n",
    "import pydoc"
   ]
  },
  {
   "cell_type": "code",
   "execution_count": 22,
   "metadata": {
    "collapsed": false
   },
   "outputs": [
    {
     "name": "stdout",
     "output_type": "stream",
     "text": [
      "matplotlib version 1.5.1\n"
     ]
    }
   ],
   "source": [
    "print \"matplotlib version\",mpl.__version__"
   ]
  },
  {
   "cell_type": "code",
   "execution_count": 23,
   "metadata": {
    "collapsed": true
   },
   "outputs": [],
   "source": [
    "def clean(astr):\n",
    "   s = astr\n",
    "   # remove multiple spaces\n",
    "   s = ' '.join(s.split())\n",
    "   s = s.replace('=','')\n",
    "\n",
    "   return s\n",
    "\n",
    "def print_desc(prefix, pkg_path):\n",
    "   for pkg in pu.iter_modules(path=pkg_path):\n",
    "      name = prefix + \".\" + pkg[1]\n",
    "\n",
    "      if pkg[2] == True:\n",
    "         try:\n",
    "            docstr = pydoc.plain(pydoc.render_doc(name))\n",
    "            docstr = clean(docstr)\n",
    "            start = docstr.find(\"DESCRIPTION\")\n",
    "            docstr = docstr[start: start + 140]\n",
    "            print name, docstr\n",
    "         except:\n",
    "            continue"
   ]
  },
  {
   "cell_type": "code",
   "execution_count": 24,
   "metadata": {
    "collapsed": false
   },
   "outputs": [
    {
     "name": "stdout",
     "output_type": "stream",
     "text": [
      "matplotlib.axes \n",
      "matplotlib.backends \n",
      "matplotlib.compat \n",
      "matplotlib.delaunay DESCRIPTION :Author: Robert Kern <robert.kern@gmail.com> :Copyright: Copyright 2005 Robert Kern. :License: BSD-style license. See LICENSE.tx\n",
      "matplotlib.externals \n",
      "matplotlib.projections \n",
      "matplotlib.sphinxext \n",
      "matplotlib.style \n",
      "matplotlib.testing \n",
      "matplotlib.tests \n",
      "matplotlib.tri \n"
     ]
    }
   ],
   "source": [
    "print_desc(\"matplotlib\", mpl.__path__)"
   ]
  },
  {
   "cell_type": "raw",
   "metadata": {},
   "source": [
    "6.2  matplotlib 繪圖入門"
   ]
  },
  {
   "cell_type": "code",
   "execution_count": 25,
   "metadata": {
    "collapsed": true
   },
   "outputs": [],
   "source": [
    "%matplotlib inline"
   ]
  },
  {
   "cell_type": "code",
   "execution_count": 26,
   "metadata": {
    "collapsed": false
   },
   "outputs": [],
   "source": [
    "import matplotlib.pyplot as plt\n",
    "import numpy as np"
   ]
  },
  {
   "cell_type": "code",
   "execution_count": 27,
   "metadata": {
    "collapsed": false
   },
   "outputs": [
    {
     "name": "stdout",
     "output_type": "stream",
     "text": [
      "[  0.           0.40816327   0.81632653   1.2244898    1.63265306\n",
      "   2.04081633   2.44897959   2.85714286   3.26530612   3.67346939\n",
      "   4.08163265   4.48979592   4.89795918   5.30612245   5.71428571\n",
      "   6.12244898   6.53061224   6.93877551   7.34693878   7.75510204\n",
      "   8.16326531   8.57142857   8.97959184   9.3877551    9.79591837\n",
      "  10.20408163  10.6122449   11.02040816  11.42857143  11.83673469\n",
      "  12.24489796  12.65306122  13.06122449  13.46938776  13.87755102\n",
      "  14.28571429  14.69387755  15.10204082  15.51020408  15.91836735\n",
      "  16.32653061  16.73469388  17.14285714  17.55102041  17.95918367\n",
      "  18.36734694  18.7755102   19.18367347  19.59183673  20.        ]\n"
     ]
    }
   ],
   "source": [
    "x = np.linspace(0,20) #指定橫坐標 並且規定起點跟終點分別為0 / 20\n",
    "print x"
   ]
  },
  {
   "cell_type": "code",
   "execution_count": 28,
   "metadata": {
    "collapsed": false
   },
   "outputs": [
    {
     "data": {
      "image/png": "[encoded data removed]",
      "text/plain": [
       "<matplotlib.figure.Figure at 0x106082650>"
      ]
     },
     "metadata": {},
     "output_type": "display_data"
    }
   ],
   "source": [
    "plt.plot(x,.5+x) #兩個參數分別是x y\n",
    "plt.plot(x,1+2*x,'--')\n",
    "plt.show() #可以用savefig() 保存到文件中"
   ]
  },
  {
   "cell_type": "raw",
   "metadata": {},
   "source": [
    "6.3 對數圖"
   ]
  },
  {
   "cell_type": "code",
   "execution_count": 29,
   "metadata": {
    "collapsed": true
   },
   "outputs": [],
   "source": [
    "#對數圖  使用對數座標繪製的圖形 \n",
    "#對數圖分兩種 一種是雙對數圖 一種是半對數圖\n",
    "#雙對數圖 使用pyplot.loglog()\n",
    "#半對數圖 使用semilogx() semilogy()"
   ]
  },
  {
   "cell_type": "code",
   "execution_count": 30,
   "metadata": {
    "collapsed": true
   },
   "outputs": [],
   "source": [
    "import matplotlib.pyplot as plt\n",
    "import numpy as np \n",
    "import pandas as pd"
   ]
  },
  {
   "cell_type": "code",
   "execution_count": 31,
   "metadata": {
    "collapsed": true
   },
   "outputs": [],
   "source": [
    "df = pd.read_csv(\"3358OS_Code/3358OS_06_Code/code6/transcount.csv\")"
   ]
  },
  {
   "cell_type": "code",
   "execution_count": 32,
   "metadata": {
    "collapsed": false
   },
   "outputs": [
    {
     "name": "stdout",
     "output_type": "stream",
     "text": [
      "   trans_count  year\n",
      "0   2600000000  2011\n",
      "1   4310000000  2014\n",
      "2   1000000000  2010\n",
      "3   5000000000  2012\n",
      "4   1200000000  2012\n",
      "5   3100000000  2012\n",
      "6   1200000000  2010\n",
      "7   2100000000  2012\n",
      "8   2300000000  2010\n",
      "9    463000000  2007\n",
      "df Length 81\n"
     ]
    }
   ],
   "source": [
    "print df[:10]\n",
    "print \"df Length\",len(df)"
   ]
  },
  {
   "cell_type": "code",
   "execution_count": 33,
   "metadata": {
    "collapsed": true
   },
   "outputs": [],
   "source": [
    "df = df.groupby('year').aggregate(np.mean) #計算每一年份group後的平均值"
   ]
  },
  {
   "cell_type": "code",
   "execution_count": 34,
   "metadata": {
    "collapsed": false
   },
   "outputs": [
    {
     "name": "stdout",
     "output_type": "stream",
     "text": [
      "        trans_count\n",
      "year               \n",
      "1971    2300.000000\n",
      "1972    3500.000000\n",
      "1974    4533.333333\n",
      "1975    3510.000000\n",
      "1976    7500.000000\n",
      "1978   19000.000000\n",
      "1979   48500.000000\n",
      "1982   94500.000000\n",
      "1983    8500.000000\n",
      "1984  200000.000000\n"
     ]
    }
   ],
   "source": [
    "print df[:10]"
   ]
  },
  {
   "cell_type": "code",
   "execution_count": 35,
   "metadata": {
    "collapsed": true
   },
   "outputs": [],
   "source": [
    "years = df.index.values"
   ]
  },
  {
   "cell_type": "code",
   "execution_count": 36,
   "metadata": {
    "collapsed": false
   },
   "outputs": [
    {
     "name": "stdout",
     "output_type": "stream",
     "text": [
      "[1971 1972 1974 1975 1976 1978 1979 1982 1983 1984 1985 1986 1988 1989 1991\n",
      " 1993 1994 1995 1996 1997 1998 1999 2000 2001 2002 2003 2004 2005 2006 2007\n",
      " 2008 2009 2010 2011 2012 2013 2014]\n"
     ]
    }
   ],
   "source": [
    "print years"
   ]
  },
  {
   "cell_type": "code",
   "execution_count": 37,
   "metadata": {
    "collapsed": false
   },
   "outputs": [],
   "source": [
    "counts = df['trans_count'].values"
   ]
  },
  {
   "cell_type": "code",
   "execution_count": 38,
   "metadata": {
    "collapsed": false
   },
   "outputs": [
    {
     "name": "stdout",
     "output_type": "stream",
     "text": [
      "[  2.30000000e+03   3.50000000e+03   4.53333333e+03   3.51000000e+03\n",
      "   7.50000000e+03   1.90000000e+04   4.85000000e+04   9.45000000e+04\n",
      "   8.50000000e+03   2.00000000e+05   1.05333333e+05   2.50000000e+04\n",
      "   2.50000000e+05   7.40117500e+05   6.90000000e+05   3.10000000e+06\n",
      "   5.78977000e+05   5.50000000e+06   4.30000000e+06   8.15000000e+06\n",
      "   7.50000000e+06   1.76000000e+07   3.15000000e+07   4.50000000e+07\n",
      "   1.37500000e+08   1.90066667e+08   3.52000000e+08   1.69000000e+08\n",
      "   6.04000000e+08   3.71600000e+08   9.03200000e+08   3.45000000e+09\n",
      "   1.51166667e+09   1.73350000e+09   2.01482643e+09   5.00000000e+09\n",
      "   4.31000000e+09]\n"
     ]
    }
   ],
   "source": [
    "print counts"
   ]
  },
  {
   "cell_type": "code",
   "execution_count": 39,
   "metadata": {
    "collapsed": false
   },
   "outputs": [
    {
     "name": "stdout",
     "output_type": "stream",
     "text": [
      "Poly [  3.61559210e-01  -7.05783195e+02]\n"
     ]
    }
   ],
   "source": [
    "poly = np.polyfit(years,np.log(counts),deg=1) #取得線性多項式\n",
    "print \"Poly\",poly  #取得多項式的係數"
   ]
  },
  {
   "cell_type": "code",
   "execution_count": 40,
   "metadata": {
    "collapsed": false
   },
   "outputs": [
    {
     "data": {
      "image/png": "[encoded data removed]",
      "text/plain": [
       "<matplotlib.figure.Figure at 0x1075b1110>"
      ]
     },
     "metadata": {},
     "output_type": "display_data"
    }
   ],
   "source": [
    "plt.semilogy(years,counts,'o')\n",
    "plt.semilogy(years,np.exp(np.polyval(poly,years)))  #可以透過polyval 取得\n",
    "plt.show()"
   ]
  },
  {
   "cell_type": "raw",
   "metadata": {},
   "source": [
    "6.4 散點圖"
   ]
  },
  {
   "cell_type": "code",
   "execution_count": 48,
   "metadata": {
    "collapsed": false
   },
   "outputs": [],
   "source": [
    "plt.scatter?"
   ]
  },
  {
   "cell_type": "code",
   "execution_count": 49,
   "metadata": {
    "collapsed": true
   },
   "outputs": [],
   "source": [
    "import matplotlib.pyplot as plt\n",
    "import numpy as np\n",
    "import pandas as pd"
   ]
  },
  {
   "cell_type": "code",
   "execution_count": 50,
   "metadata": {
    "collapsed": false
   },
   "outputs": [],
   "source": [
    "df = pd.read_csv(\"3358OS_Code/3358OS_06_Code/code6/transcount.csv\")\n",
    "df = df.groupby('year').aggregate(np.mean)"
   ]
  },
  {
   "cell_type": "code",
   "execution_count": 51,
   "metadata": {
    "collapsed": false
   },
   "outputs": [
    {
     "name": "stdout",
     "output_type": "stream",
     "text": [
      "   gpu_trans_count  year\n",
      "0          3500000  1997\n",
      "1          8000000  1999\n",
      "2         15000000  1999\n",
      "3         17500000  1999\n",
      "4         20000000  2000\n",
      "5         25000000  2000\n",
      "6         30000000  2000\n",
      "7         57000000  2001\n",
      "8         60000000  2001\n",
      "9         63000000  2002\n"
     ]
    }
   ],
   "source": [
    "gpu = pd.read_csv(\"3358OS_Code/3358OS_06_Code/code6/gpu_transcount.csv\")\n",
    "print gpu[:10]"
   ]
  },
  {
   "cell_type": "code",
   "execution_count": 52,
   "metadata": {
    "collapsed": true
   },
   "outputs": [],
   "source": [
    "gpu = gpu.groupby('year').aggregate(np.mean)"
   ]
  },
  {
   "cell_type": "code",
   "execution_count": 53,
   "metadata": {
    "collapsed": false
   },
   "outputs": [
    {
     "name": "stdout",
     "output_type": "stream",
     "text": [
      "      gpu_trans_count\n",
      "year                 \n",
      "1997          3500000\n",
      "1999         13500000\n",
      "2000         25000000\n",
      "2001         58500000\n",
      "2002         85000000\n",
      "2003        126000000\n",
      "2004        191000000\n",
      "2005        312000000\n",
      "2006        532500000\n",
      "2007        727000000\n"
     ]
    }
   ],
   "source": [
    "print gpu[:10]"
   ]
  },
  {
   "cell_type": "code",
   "execution_count": 54,
   "metadata": {
    "collapsed": false
   },
   "outputs": [
    {
     "name": "stdout",
     "output_type": "stream",
     "text": [
      "        trans_count  gpu_trans_count\n",
      "year                                \n",
      "1971    2300.000000              NaN\n",
      "1972    3500.000000              NaN\n",
      "1974    4533.333333              NaN\n",
      "1975    3510.000000              NaN\n",
      "1976    7500.000000              NaN\n",
      "1978   19000.000000              NaN\n",
      "1979   48500.000000              NaN\n",
      "1982   94500.000000              NaN\n",
      "1983    8500.000000              NaN\n",
      "1984  200000.000000              NaN\n"
     ]
    }
   ],
   "source": [
    "df = pd.merge(df,gpu,how='outer',left_index=True,right_index=True) #透過merge merge  兩個data\n",
    "print df[:10]"
   ]
  },
  {
   "cell_type": "code",
   "execution_count": 55,
   "metadata": {
    "collapsed": true
   },
   "outputs": [],
   "source": [
    "df = df .replace(np.nan,0)"
   ]
  },
  {
   "cell_type": "code",
   "execution_count": 57,
   "metadata": {
    "collapsed": false,
    "scrolled": true
   },
   "outputs": [
    {
     "name": "stdout",
     "output_type": "stream",
     "text": [
      "        trans_count  gpu_trans_count\n",
      "year                                \n",
      "1971    2300.000000              0.0\n",
      "1972    3500.000000              0.0\n",
      "1974    4533.333333              0.0\n",
      "1975    3510.000000              0.0\n",
      "1976    7500.000000              0.0\n",
      "1978   19000.000000              0.0\n",
      "1979   48500.000000              0.0\n",
      "1982   94500.000000              0.0\n",
      "1983    8500.000000              0.0\n",
      "1984  200000.000000              0.0\n"
     ]
    }
   ],
   "source": [
    "print df [:10]"
   ]
  },
  {
   "cell_type": "code",
   "execution_count": 58,
   "metadata": {
    "collapsed": true
   },
   "outputs": [],
   "source": [
    "years = df.index.values"
   ]
  },
  {
   "cell_type": "code",
   "execution_count": 59,
   "metadata": {
    "collapsed": false
   },
   "outputs": [
    {
     "name": "stdout",
     "output_type": "stream",
     "text": [
      "[  2.30000000e+03   3.50000000e+03   4.53333333e+03   3.51000000e+03\n",
      "   7.50000000e+03   1.90000000e+04   4.85000000e+04   9.45000000e+04\n",
      "   8.50000000e+03   2.00000000e+05   1.05333333e+05   2.50000000e+04\n",
      "   2.50000000e+05   7.40117500e+05   6.90000000e+05   3.10000000e+06\n",
      "   5.78977000e+05   5.50000000e+06   4.30000000e+06   8.15000000e+06\n",
      "   7.50000000e+06   1.76000000e+07   3.15000000e+07   4.50000000e+07\n",
      "   1.37500000e+08   1.90066667e+08   3.52000000e+08   1.69000000e+08\n",
      "   6.04000000e+08   3.71600000e+08   9.03200000e+08   3.45000000e+09\n",
      "   1.51166667e+09   1.73350000e+09   2.01482643e+09   5.00000000e+09\n",
      "   4.31000000e+09]\n"
     ]
    }
   ],
   "source": [
    "counts = df['trans_count'].values\n",
    "print counts"
   ]
  },
  {
   "cell_type": "code",
   "execution_count": 62,
   "metadata": {
    "collapsed": false
   },
   "outputs": [
    {
     "name": "stdout",
     "output_type": "stream",
     "text": [
      "[  0.00000000e+00   0.00000000e+00   0.00000000e+00   0.00000000e+00\n",
      "   0.00000000e+00   0.00000000e+00   0.00000000e+00   0.00000000e+00\n",
      "   0.00000000e+00   0.00000000e+00   0.00000000e+00   0.00000000e+00\n",
      "   0.00000000e+00   0.00000000e+00   0.00000000e+00   0.00000000e+00\n",
      "   0.00000000e+00   0.00000000e+00   0.00000000e+00   3.50000000e+06\n",
      "   0.00000000e+00   1.35000000e+07   2.50000000e+07   5.85000000e+07\n",
      "   8.50000000e+07   1.26000000e+08   1.91000000e+08   3.12000000e+08\n",
      "   5.32500000e+08   7.27000000e+08   1.17950000e+09   2.15400000e+09\n",
      "   2.94666667e+09   4.31271187e+09   5.31000000e+09   6.30000000e+09\n",
      "   0.00000000e+00]\n"
     ]
    }
   ],
   "source": [
    "gpu_counts = df['gpu_trans_count'].values\n",
    "print gpu_counts"
   ]
  },
  {
   "cell_type": "code",
   "execution_count": 63,
   "metadata": {
    "collapsed": false
   },
   "outputs": [
    {
     "name": "stdout",
     "output_type": "stream",
     "text": [
      "[  7.7406644    8.16051825   8.41921278   8.16337132   8.9226583\n",
      "   9.85219426  10.78931908  11.45635511   9.04782144  12.20607265\n",
      "  11.5648852   10.1266311   12.4292162   13.51456424  13.44444688\n",
      "  14.94691267  13.26901803  15.52025865  15.27412558  15.91352849\n",
      "  15.83041358  16.68340946  17.2654981   17.62217305  18.73913448\n",
      "  19.06288545  19.67914173  18.94540927  20.21908476  19.73332856\n",
      "  20.62145457  21.96164007  21.13647863  21.27340832  21.42379889\n",
      "  22.33270375  22.18420374]\n"
     ]
    }
   ],
   "source": [
    "cnt_log = np.log(counts)\n",
    "print cnt_log"
   ]
  },
  {
   "cell_type": "code",
   "execution_count": 64,
   "metadata": {
    "collapsed": false
   },
   "outputs": [
    {
     "data": {
      "image/png": "[encoded data removed]",
      "text/plain": [
       "<matplotlib.figure.Figure at 0x106082750>"
      ]
     },
     "metadata": {},
     "output_type": "display_data"
    }
   ],
   "source": [
    "plt.scatter(years,cnt_log,c=200*years,s=20+1000*gpu_counts/gpu_counts.max(),alpha=0.5)\n",
    "#c為 color s 為圓圈大小 alpha為透明度\n",
    "plt.show()"
   ]
  },
  {
   "cell_type": "raw",
   "metadata": {},
   "source": [
    "6.5 圖例與註解"
   ]
  },
  {
   "cell_type": "code",
   "execution_count": 65,
   "metadata": {
    "collapsed": true
   },
   "outputs": [],
   "source": [
    "#圖例可以使用matplotlib legend()給每個數據序列對應的標籤\n",
    "#註解可以使用matplotlib annotate()包括標籤和箭頭兩個組成部分\n",
    "#橫軸跟縱軸的標籤可以透過xlabel() ylabel()\n",
    "#標題使用matplotlib title()\n",
    "#網格matplotlib  grid()"
   ]
  },
  {
   "cell_type": "code",
   "execution_count": 66,
   "metadata": {
    "collapsed": true
   },
   "outputs": [],
   "source": [
    "import matplotlib.pyplot as plt\n",
    "import numpy as np \n",
    "import pandas as pd"
   ]
  },
  {
   "cell_type": "code",
   "execution_count": 67,
   "metadata": {
    "collapsed": false
   },
   "outputs": [],
   "source": [
    "df = pd.read_csv(\"3358OS_Code/3358OS_06_Code/code6/transcount.csv\")\n",
    "df = df.groupby('year').aggregate(np.mean)\n",
    "gpu = pd.read_csv(\"3358OS_Code/3358OS_06_Code/code6/gpu_transcount.csv\")\n",
    "gpu = gpu.groupby('year').aggregate(np.mean)\n",
    "df = pd.merge(df,gpu,how='outer',left_index=True,right_index=True)\n",
    "df = df .replace(np.nan,0)\n",
    "years = df.index.values\n",
    "counts = df['trans_count'].values\n",
    "gpu_counts = df['gpu_trans_count'].values  "
   ]
  },
  {
   "cell_type": "code",
   "execution_count": 69,
   "metadata": {
    "collapsed": false
   },
   "outputs": [
    {
     "data": {
      "image/png": "[encoded data removed]",
      "text/plain": [
       "<matplotlib.figure.Figure at 0x1079c25d0>"
      ]
     },
     "metadata": {},
     "output_type": "display_data"
    }
   ],
   "source": [
    "poly = np.polyfit(years,np.log(counts),deg=1)\n",
    "plt.plot(years,np.polyval(poly,years),label='Fit') #label 可以透過plt.legend()顯示\n",
    "\n",
    "gpu_start = gpu.index.values.min() #取得有gpu最小的年代\n",
    "y_ann = np.log(df.at[gpu_start,'trans_count']) #取得有gpu最小的年代的trans_count\n",
    "ann_str = \"First GPU \\n %d \"%gpu_start  #註解字串\n",
    "plt.annotate(ann_str,xy=(gpu_start,y_ann),arrowprops=dict(arrowstyle=\"->\"),\n",
    "             xytext=(-20,+60),textcoords='offset points')\n",
    "#註解字串的指標位子\n",
    "#print gpu_start,y_ann\n",
    "cnt_log = np.log(counts)\n",
    "plt.scatter(years,cnt_log,c=200*years,s=20 + 200 * gpu_counts/gpu_counts.max(),\n",
    "            alpha=0.5,label=\"Scatter Plot\")\n",
    "plt.legend(loc='upper left')\n",
    "plt.grid()\n",
    "plt.xlabel(\"Year\")\n",
    "plt.ylabel(\"Log Transistor Counts\",fontsize = 16)\n",
    "plt.title(\"Moore's Law &Transostor Counts\")\n",
    "plt.show()"
   ]
  },
  {
   "cell_type": "raw",
   "metadata": {},
   "source": [
    "6.6 三維圖"
   ]
  },
  {
   "cell_type": "code",
   "execution_count": 70,
   "metadata": {
    "collapsed": true
   },
   "outputs": [],
   "source": [
    "#axe3d 可以用來繪製三維圖"
   ]
  },
  {
   "cell_type": "code",
   "execution_count": 71,
   "metadata": {
    "collapsed": false
   },
   "outputs": [],
   "source": [
    "from mpl_toolkits.mplot3d.axes3d import Axes3D\n",
    "import matplotlib.pyplot as plt\n",
    "import numpy as np \n",
    "import pandas as pd"
   ]
  },
  {
   "cell_type": "code",
   "execution_count": 72,
   "metadata": {
    "collapsed": true
   },
   "outputs": [],
   "source": [
    "df = pd.read_csv(\"3358OS_Code/3358OS_06_Code/code6/transcount.csv\")\n",
    "df = df.groupby('year').aggregate(np.mean)\n",
    "gpu = pd.read_csv(\"3358OS_Code/3358OS_06_Code/code6/gpu_transcount.csv\")\n",
    "gpu = gpu.groupby('year').aggregate(np.mean)\n",
    "df = pd.merge(df,gpu,how='outer',left_index=True,right_index=True)\n",
    "df = df.replace(np.nan,0)"
   ]
  },
  {
   "cell_type": "code",
   "execution_count": 73,
   "metadata": {
    "collapsed": false
   },
   "outputs": [
    {
     "name": "stdout",
     "output_type": "stream",
     "text": [
      "[1971 1972 1974 1975 1976 1978 1979 1982 1983 1984 1985 1986 1988 1989 1991\n",
      " 1993 1994 1995 1996 1997 1998 1999 2000 2001 2002 2003 2004 2005 2006 2007\n",
      " 2008 2009 2010 2011 2012 2013 2014]\n"
     ]
    }
   ],
   "source": [
    "X = df.index.values #給X Y 值\n",
    "print X"
   ]
  },
  {
   "cell_type": "code",
   "execution_count": 74,
   "metadata": {
    "collapsed": false
   },
   "outputs": [
    {
     "name": "stdout",
     "output_type": "stream",
     "text": [
      "[  7.7406644    8.16051825   8.41921278   8.16337132   8.9226583\n",
      "   9.85219426  10.78931908  11.45635511   9.04782144  12.20607265\n",
      "  11.5648852   10.1266311   12.4292162   13.51456424  13.44444688\n",
      "  14.94691267  13.26901803  15.52025865  15.27412558  15.91352849\n",
      "  15.83041358  16.68340946  17.2654981   17.62217305  18.73913448\n",
      "  19.06288545  19.67914173  18.94540927  20.21908476  19.73332856\n",
      "  20.62145457  21.96164007  21.13647863  21.27340832  21.42379889\n",
      "  22.33270375  22.18420374]\n"
     ]
    }
   ],
   "source": [
    "Y = np.log(df['trans_count'].values)\n",
    "print Y"
   ]
  },
  {
   "cell_type": "code",
   "execution_count": 75,
   "metadata": {
    "collapsed": false
   },
   "outputs": [
    {
     "name": "stdout",
     "output_type": "stream",
     "text": [
      "[[1971 1972 1974 ..., 2012 2013 2014]\n",
      " [1971 1972 1974 ..., 2012 2013 2014]\n",
      " [1971 1972 1974 ..., 2012 2013 2014]\n",
      " ..., \n",
      " [1971 1972 1974 ..., 2012 2013 2014]\n",
      " [1971 1972 1974 ..., 2012 2013 2014]\n",
      " [1971 1972 1974 ..., 2012 2013 2014]]\n",
      "[[  7.7406644    7.7406644    7.7406644  ...,   7.7406644    7.7406644\n",
      "    7.7406644 ]\n",
      " [  8.16051825   8.16051825   8.16051825 ...,   8.16051825   8.16051825\n",
      "    8.16051825]\n",
      " [  8.41921278   8.41921278   8.41921278 ...,   8.41921278   8.41921278\n",
      "    8.41921278]\n",
      " ..., \n",
      " [ 21.42379889  21.42379889  21.42379889 ...,  21.42379889  21.42379889\n",
      "   21.42379889]\n",
      " [ 22.33270375  22.33270375  22.33270375 ...,  22.33270375  22.33270375\n",
      "   22.33270375]\n",
      " [ 22.18420374  22.18420374  22.18420374 ...,  22.18420374  22.18420374\n",
      "   22.18420374]]\n"
     ]
    }
   ],
   "source": [
    "X,Y = np.meshgrid(X,Y) #因為要建立數據矩陣 所以要使用meshgrid整理list\n",
    "print X\n",
    "print Y"
   ]
  },
  {
   "cell_type": "code",
   "execution_count": 76,
   "metadata": {
    "collapsed": false
   },
   "outputs": [
    {
     "name": "stdout",
     "output_type": "stream",
     "text": [
      "[        -inf         -inf         -inf         -inf         -inf\n",
      "         -inf         -inf         -inf         -inf         -inf\n",
      "         -inf         -inf         -inf         -inf         -inf\n",
      "         -inf         -inf         -inf         -inf  15.06827353\n",
      "         -inf  16.41820024  17.03438638  17.88453731  18.25816181\n",
      "  18.65179246  19.06778399  19.55851375  20.09309346  20.40443704\n",
      "  20.88835646  21.49059242  21.80394042  22.18483275  22.39285767\n",
      "  22.56381547         -inf]\n"
     ]
    }
   ],
   "source": [
    "Z = np.log(df['gpu_trans_count'].values)\n",
    "print Z"
   ]
  },
  {
   "cell_type": "code",
   "execution_count": 77,
   "metadata": {
    "collapsed": false
   },
   "outputs": [
    {
     "data": {
      "image/png": "[encoded data removed]",
      "text/plain": [
       "<matplotlib.figure.Figure at 0x107a57ad0>"
      ]
     },
     "metadata": {},
     "output_type": "display_data"
    }
   ],
   "source": [
    "fig = plt.figure() #建立一個plt 對象\n",
    "ax = Axes3D(fig) #利用fig建立一個Axe3D 對象\n",
    "ax.plot_surface(X,Y,Z)\n",
    "ax.set_xlabel(\"Year\")\n",
    "ax.set_ylabel(\"Log CPU transistor counts\")\n",
    "ax.set_zlabel(\"Log GPU transistor counts\")\n",
    "ax.set_title(\"Moore's Law & Transistor Counts\")\n",
    "plt.show()"
   ]
  },
  {
   "cell_type": "raw",
   "metadata": {},
   "source": [
    "6.7 pandas 繪圖"
   ]
  },
  {
   "cell_type": "code",
   "execution_count": 78,
   "metadata": {
    "collapsed": true
   },
   "outputs": [],
   "source": [
    "#Pandas Series &DataFrame 都有使用matplotlib 的函數可以使用plot ()做圖"
   ]
  },
  {
   "cell_type": "code",
   "execution_count": 79,
   "metadata": {
    "collapsed": true
   },
   "outputs": [],
   "source": [
    "import matplotlib.pyplot as plt\n",
    "import numpy as np\n",
    "import pandas as pd"
   ]
  },
  {
   "cell_type": "code",
   "execution_count": 80,
   "metadata": {
    "collapsed": true
   },
   "outputs": [],
   "source": [
    "df = pd.read_csv(\"3358OS_Code/3358OS_06_Code/code6/transcount.csv\")\n",
    "df = df.groupby('year').aggregate(np.mean)\n",
    "gpu = pd.read_csv(\"3358OS_Code/3358OS_06_Code/code6/gpu_transcount.csv\")\n",
    "gpu = gpu.groupby('year').aggregate(np.mean)\n",
    "df = pd.merge(df,gpu,how='outer',left_index=True,right_index=True)\n",
    "df = df.replace(np.nan,0)"
   ]
  },
  {
   "cell_type": "code",
   "execution_count": 82,
   "metadata": {
    "collapsed": false
   },
   "outputs": [
    {
     "data": {
      "text/plain": [
       "<matplotlib.axes._subplots.AxesSubplot at 0x10601c710>"
      ]
     },
     "execution_count": 82,
     "metadata": {},
     "output_type": "execute_result"
    },
    {
     "data": {
      "image/png": "[encoded data removed]",
      "text/plain": [
       "<matplotlib.figure.Figure at 0x105febbd0>"
      ]
     },
     "metadata": {},
     "output_type": "display_data"
    }
   ],
   "source": [
    "df.plot() #直接使用.plot()即可畫圖"
   ]
  },
  {
   "cell_type": "code",
   "execution_count": 83,
   "metadata": {
    "collapsed": false
   },
   "outputs": [
    {
     "data": {
      "text/plain": [
       "<matplotlib.axes._subplots.AxesSubplot at 0x1078cda50>"
      ]
     },
     "execution_count": 83,
     "metadata": {},
     "output_type": "execute_result"
    },
    {
     "data": {
      "image/png": "[encoded data removed]",
      "text/plain": [
       "<matplotlib.figure.Figure at 0x1078f1d10>"
      ]
     },
     "metadata": {},
     "output_type": "display_data"
    }
   ],
   "source": [
    "df.plot(logy=True) #使用logy就可以改成log"
   ]
  },
  {
   "cell_type": "code",
   "execution_count": 84,
   "metadata": {
    "collapsed": false
   },
   "outputs": [
    {
     "data": {
      "text/plain": [
       "<matplotlib.axes._subplots.AxesSubplot at 0x107609f90>"
      ]
     },
     "execution_count": 84,
     "metadata": {},
     "output_type": "execute_result"
    },
    {
     "data": {
      "image/png": "[encoded data removed]",
      "text/plain": [
       "<matplotlib.figure.Figure at 0x106078ed0>"
      ]
     },
     "metadata": {},
     "output_type": "display_data"
    }
   ],
   "source": [
    "#使用散點圖需要較多參數設定\n",
    "df[df['gpu_trans_count']>0].plot(kind='scatter',\n",
    "                                x='trans_count',y='gpu_trans_count',loglog=True)"
   ]
  },
  {
   "cell_type": "raw",
   "metadata": {},
   "source": [
    "6.8  時滯圖"
   ]
  },
  {
   "cell_type": "code",
   "execution_count": 85,
   "metadata": {
    "collapsed": true
   },
   "outputs": [],
   "source": [
    "#時滯圖其實就是散點圖 把時間序列的圖像及相同序列在時間軸上後延的圖像放在一起展示\n",
    "#ex 檢查今年與去年的相關性 可以使用pandas tools plotting 中lag_plot()製作"
   ]
  },
  {
   "cell_type": "code",
   "execution_count": 86,
   "metadata": {
    "collapsed": true
   },
   "outputs": [],
   "source": [
    "import matplotlib.pyplot as plt\n",
    "import numpy as np\n",
    "import pandas as pd\n",
    "from pandas.tools.plotting import lag_plot"
   ]
  },
  {
   "cell_type": "code",
   "execution_count": 88,
   "metadata": {
    "collapsed": false
   },
   "outputs": [
    {
     "name": "stdout",
     "output_type": "stream",
     "text": [
      "        trans_count  gpu_trans_count\n",
      "year                                \n",
      "1971    2300.000000              0.0\n",
      "1972    3500.000000              0.0\n",
      "1974    4533.333333              0.0\n",
      "1975    3510.000000              0.0\n",
      "1976    7500.000000              0.0\n",
      "1978   19000.000000              0.0\n",
      "1979   48500.000000              0.0\n",
      "1982   94500.000000              0.0\n",
      "1983    8500.000000              0.0\n",
      "1984  200000.000000              0.0\n"
     ]
    }
   ],
   "source": [
    "df = pd.read_csv(\"3358OS_Code/3358OS_06_Code/code6/transcount.csv\")\n",
    "df = df.groupby('year').aggregate(np.mean)\n",
    "gpu = pd.read_csv(\"3358OS_Code/3358OS_06_Code/code6/gpu_transcount.csv\")\n",
    "gpu = gpu.groupby('year').aggregate(np.mean)\n",
    "df = pd.merge(df,gpu,how='outer',left_index=True,right_index=True)\n",
    "df = df.replace(np.nan,0)\n",
    "print df[:10]"
   ]
  },
  {
   "cell_type": "code",
   "execution_count": 89,
   "metadata": {
    "collapsed": false
   },
   "outputs": [
    {
     "data": {
      "image/png": "[encoded data removed]",
      "text/plain": [
       "<matplotlib.figure.Figure at 0x1078cdb10>"
      ]
     },
     "metadata": {},
     "output_type": "display_data"
    }
   ],
   "source": [
    "lag_plot(np.log(df['gpu_trans_count']))\n",
    "plt.show()"
   ]
  },
  {
   "cell_type": "code",
   "execution_count": 90,
   "metadata": {
    "collapsed": false
   },
   "outputs": [
    {
     "data": {
      "image/png": "[encoded data removed]",
      "text/plain": [
       "<matplotlib.figure.Figure at 0x1079de1d0>"
      ]
     },
     "metadata": {},
     "output_type": "display_data"
    }
   ],
   "source": [
    "lag_plot(np.log(df['trans_count']))\n",
    "plt.show()"
   ]
  },
  {
   "cell_type": "raw",
   "metadata": {},
   "source": [
    "# 6.9自相關圖 "
   ]
  },
  {
   "cell_type": "code",
   "execution_count": 91,
   "metadata": {
    "collapsed": true
   },
   "outputs": [],
   "source": [
    "# 自相關圖是時間數據字不同時間點的相互關係\n",
    "# 利用pandas tools plotting  中的autocorrelation_plot()\n"
   ]
  },
  {
   "cell_type": "code",
   "execution_count": 92,
   "metadata": {
    "collapsed": true
   },
   "outputs": [],
   "source": [
    "import matplotlib.pyplot as plt\n",
    "import numpy as np\n",
    "import pandas as pd\n",
    "from pandas.tools.plotting import autocorrelation_plot"
   ]
  },
  {
   "cell_type": "code",
   "execution_count": 93,
   "metadata": {
    "collapsed": true
   },
   "outputs": [],
   "source": [
    "df = pd.read_csv(\"3358OS_Code/3358OS_06_Code/code6/transcount.csv\")\n",
    "df = df.groupby('year').aggregate(np.mean)\n",
    "gpu = pd.read_csv(\"3358OS_Code/3358OS_06_Code/code6/gpu_transcount.csv\")\n",
    "gpu = gpu.groupby('year').aggregate(np.mean)\n",
    "df = pd.merge(df,gpu,how='outer',left_index=True,right_index=True)\n",
    "df = df.replace(np.nan,0)"
   ]
  },
  {
   "cell_type": "code",
   "execution_count": 94,
   "metadata": {
    "collapsed": false
   },
   "outputs": [
    {
     "data": {
      "image/png": "[encoded data removed]",
      "text/plain": [
       "<matplotlib.figure.Figure at 0x107eeb4d0>"
      ]
     },
     "metadata": {},
     "output_type": "display_data"
    }
   ],
   "source": [
    "autocorrelation_plot(np.log(df['trans_count']))\n",
    "plt.show()"
   ]
  },
  {
   "cell_type": "code",
   "execution_count": 95,
   "metadata": {
    "collapsed": false
   },
   "outputs": [
    {
     "data": {
      "image/png": "[encoded data removed]",
      "text/plain": [
       "<matplotlib.figure.Figure at 0x10801fb10>"
      ]
     },
     "metadata": {},
     "output_type": "display_data"
    }
   ],
   "source": [
    "autocorrelation_plot(np.log(df['gpu_trans_count']))\n",
    "plt.show()"
   ]
  },
  {
   "cell_type": "raw",
   "metadata": {},
   "source": [
    "6.10 Plot.ly"
   ]
  },
  {
   "cell_type": "code",
   "execution_count": 96,
   "metadata": {
    "collapsed": true
   },
   "outputs": [],
   "source": [
    "#利用　plot.ly畫箱型圖"
   ]
  },
  {
   "cell_type": "code",
   "execution_count": 97,
   "metadata": {
    "collapsed": false
   },
   "outputs": [],
   "source": [
    "import plotly.plotly as py\n",
    "from plotly.graph_objs import *\n",
    "from getpass import getpass\n",
    "import numpy as np\n",
    "import pandas as pd"
   ]
  },
  {
   "cell_type": "code",
   "execution_count": 98,
   "metadata": {
    "collapsed": true
   },
   "outputs": [],
   "source": [
    "df = pd.read_csv(\"3358OS_Code/3358OS_06_Code/code6/transcount.csv\")\n",
    "df = df.groupby('year').aggregate(np.mean)\n",
    "gpu = pd.read_csv(\"3358OS_Code/3358OS_06_Code/code6/gpu_transcount.csv\")\n",
    "gpu = gpu.groupby('year').aggregate(np.mean)\n",
    "df = pd.merge(df,gpu,how='outer',left_index=True,right_index=True)\n",
    "df = df.replace(np.nan,0)"
   ]
  },
  {
   "cell_type": "code",
   "execution_count": 99,
   "metadata": {
    "collapsed": false
   },
   "outputs": [
    {
     "name": "stdout",
     "output_type": "stream",
     "text": [
      "········\n"
     ]
    }
   ],
   "source": [
    "api_key = getpass()"
   ]
  },
  {
   "cell_type": "code",
   "execution_count": 100,
   "metadata": {
    "collapsed": true
   },
   "outputs": [],
   "source": [
    "py.sign_in('hankyang77122',api_key)"
   ]
  },
  {
   "cell_type": "code",
   "execution_count": 101,
   "metadata": {
    "collapsed": true
   },
   "outputs": [],
   "source": [
    "data = Data([Box(y=counts),Box(y=gpu_counts)])"
   ]
  },
  {
   "cell_type": "code",
   "execution_count": 102,
   "metadata": {
    "collapsed": false
   },
   "outputs": [
    {
     "name": "stdout",
     "output_type": "stream",
     "text": [
      "High five! You successfuly sent some data to your account on plotly. View your plot in your browser at https://plot.ly/~hankyang77122/0 or inside your plot.ly account where it is named 'moore-law-scatter'\n"
     ]
    }
   ],
   "source": [
    "plot_url = py.plot(data,filename='moore-law-scatter')"
   ]
  },
  {
   "cell_type": "code",
   "execution_count": null,
   "metadata": {
    "collapsed": true
   },
   "outputs": [],
   "source": []
  },
  {
   "cell_type": "code",
   "execution_count": null,
   "metadata": {
    "collapsed": true
   },
   "outputs": [],
   "source": []
  }
 ],
 "metadata": {
  "kernelspec": {
   "display_name": "Python 2",
   "language": "python",
   "name": "python2"
  },
  "language_info": {
   "codemirror_mode": {
    "name": "ipython",
    "version": 2
   },
   "file_extension": ".py",
   "mimetype": "text/x-python",
   "name": "python",
   "nbconvert_exporter": "python",
   "pygments_lexer": "ipython2",
   "version": "2.7.10"
  }
 },
 "nbformat": 4,
 "nbformat_minor": 0
}
